{
 "cells": [
  {
   "cell_type": "markdown",
   "id": "76dac935",
   "metadata": {},
   "source": [
    "###  two custom layers in TensorFlow that perform addition and multiplication operations. Here are the implementations"
   ]
  },
  {
   "cell_type": "markdown",
   "id": "23625d55",
   "metadata": {},
   "source": [
    "### 1.Create two custom layers in TensorFlow that add two inputs and multiply two inputsrespectively [or any other mathematical operations of your choice(linear ornonlinear)] Add layer names and other things that are present in other commonlayers in TensorFlow."
   ]
  },
  {
   "cell_type": "code",
   "execution_count": 12,
   "id": "bd7f555c",
   "metadata": {
    "scrolled": true
   },
   "outputs": [],
   "source": [
    "#addition layer\n",
    "import tensorflow as tf\n",
    "\n",
    "class AdditionLayer(tf.keras.layers.Layer):\n",
    "    def __init__(self, **kwargs):\n",
    "        super(AdditionLayer, self).__init__(**kwargs)\n",
    "\n",
    "    def call(self, inputs):\n",
    "        return tf.add(inputs[0], inputs[1])\n",
    "\n",
    "    def get_config(self):\n",
    "        base_config = super(AdditionLayer, self).get_config()\n",
    "        return base_config"
   ]
  },
  {
   "cell_type": "code",
   "execution_count": 14,
   "id": "a1944542",
   "metadata": {
    "scrolled": true
   },
   "outputs": [],
   "source": [
    "#multiplication layer\n",
    "import tensorflow as tf\n",
    "\n",
    "class MultiplicationLayer(tf.keras.layers.Layer):\n",
    "    def __init__(self, **kwargs):\n",
    "        super(MultiplicationLayer, self).__init__(**kwargs)\n",
    "\n",
    "    def call(self, inputs):\n",
    "        return tf.multiply(inputs[0], inputs[1])\n",
    "\n",
    "    def get_config(self):\n",
    "        base_config = super(MultiplicationLayer, self).get_config()\n",
    "        return base_config\n"
   ]
  },
  {
   "cell_type": "code",
   "execution_count": 16,
   "id": "ee288874",
   "metadata": {
    "scrolled": true
   },
   "outputs": [],
   "source": [
    "input1 = tf.keras.Input(shape=(10,))\n",
    "input2 = tf.keras.Input(shape=(10,))\n",
    "\n",
    "addition_layer = AdditionLayer()\n",
    "multiply_layer = MultiplicationLayer()\n",
    "\n",
    "output1 = addition_layer([input1, input2])\n",
    "output2 = multiply_layer([input1, input2])\n",
    "\n",
    "model = tf.keras.Model(inputs=[input1, input2], outputs=[output1, output2])\n"
   ]
  },
  {
   "cell_type": "markdown",
   "id": "23b82047",
   "metadata": {},
   "source": [
    "# 2.Combine these two layers in a third custom layer. Concatenate them or multiplythem etc."
   ]
  },
  {
   "cell_type": "code",
   "execution_count": 18,
   "id": "e92c7280",
   "metadata": {
    "scrolled": true
   },
   "outputs": [],
   "source": [
    "import tensorflow as tf\n",
    "\n",
    "class CombinedLayer(tf.keras.layers.Layer):\n",
    "    def __init__(self, operation='concatenate', **kwargs):\n",
    "        super(CombinedLayer, self).__init__(**kwargs)\n",
    "        self.operation = operation\n",
    "\n",
    "    def build(self, input_shape):\n",
    "        if self.operation == 'concatenate':\n",
    "            self.concat_layer = tf.keras.layers.Concatenate()\n",
    "        elif self.operation == 'multiply':\n",
    "            self.multiply_layer = tf.keras.layers.Multiply()\n",
    "        else:\n",
    "            raise ValueError('Unsupported operation.')\n",
    "\n",
    "    def call(self, inputs):\n",
    "        addition_output = AdditionLayer()(inputs)\n",
    "        multiplication_output = MultiplicationLayer()(inputs)\n",
    "\n",
    "        if self.operation == 'concatenate':\n",
    "            return self.concat_layer([addition_output, multiplication_output])\n",
    "        elif self.operation == 'multiply':\n",
    "            return self.multiply_layer([addition_output, multiplication_output])\n",
    "\n",
    "    def get_config(self):\n",
    "        config = {'operation': self.operation}\n",
    "        base_config = super(CombinedLayer, self).get_config()\n",
    "        return dict(list(base_config.items()) + list(config.items()))\n"
   ]
  },
  {
   "cell_type": "code",
   "execution_count": 20,
   "id": "0c434e33",
   "metadata": {
    "scrolled": true
   },
   "outputs": [],
   "source": [
    "input1 = tf.keras.Input(shape=(10,))\n",
    "input2 = tf.keras.Input(shape=(10,))\n",
    "\n",
    "combined_layer = CombinedLayer(operation='concatenate')\n",
    "\n",
    "output = combined_layer([input1, input2])\n",
    "\n",
    "model = tf.keras.Model(inputs=[input1, input2], outputs=output)\n"
   ]
  },
  {
   "cell_type": "markdown",
   "id": "554b3d11",
   "metadata": {},
   "source": [
    "# 3.Create a model using these and observe how batch inference works"
   ]
  },
  {
   "cell_type": "code",
   "execution_count": 22,
   "id": "4d270052",
   "metadata": {
    "scrolled": true
   },
   "outputs": [
    {
     "name": "stdout",
     "output_type": "stream",
     "text": [
      "1/1 [==============================] - 0s 237ms/step\n",
      "[[-4.22023803e-01  1.45643473e+00 -3.69011462e-01 -1.16012096e-01\n",
      "  -1.03352451e+00 -4.95106816e-01 -6.49592519e-01  2.16367292e+00\n",
      "  -2.82485557e+00  1.96852952e-01 -1.28516275e-03  5.25218010e-01\n",
      "  -1.35126424e+00 -1.47973347e+00 -4.80846375e-01 -7.52882957e-01\n",
      "  -1.43861353e-01  1.15886807e+00  1.95937848e+00 -2.09427714e-01]\n",
      " [-2.22245336e-01  7.15362132e-01 -7.67593622e-01 -4.61036146e-01\n",
      "   9.82841849e-01 -1.17449391e+00 -1.65882516e+00  1.09800124e+00\n",
      "   2.92042899e+00 -2.50803542e+00 -7.64524341e-01  5.99463396e-02\n",
      "  -1.12214662e-01 -2.36622214e-01 -4.53560129e-02  1.17831290e-01\n",
      "   6.63815379e-01  2.75588900e-01 -1.27512491e+00  1.21463799e+00]\n",
      " [-8.24879706e-01  1.03467691e+00 -5.49920142e-01 -6.12001717e-01\n",
      "  -9.57560301e-01  7.40945101e-01  2.06005430e+00  1.27739698e-01\n",
      "  -3.05051893e-01  1.04711711e+00 -4.67106402e-01  5.44153303e-02\n",
      "  -7.37405717e-02  2.22131889e-02  1.82140887e-01  1.09283186e-01\n",
      "   9.05585229e-01 -2.82415189e-02 -7.01540112e-02  1.17997356e-01]\n",
      " [ 1.95063353e-01  1.77561700e+00 -2.11941385e+00 -4.31045532e-01\n",
      "  -1.28420234e-01 -9.15520787e-01  4.21689749e-02 -3.68008494e-01\n",
      "  -2.58975029e-02  1.28776002e+00 -1.09267557e+00  7.14169860e-01\n",
      "   1.04168952e+00 -4.15948629e+00 -4.30081218e-01 -2.63866353e+00\n",
      "  -2.90705234e-01  2.76422445e-02 -1.17442596e+00 -6.33996606e-01]]\n"
     ]
    }
   ],
   "source": [
    "import tensorflow as tf\n",
    "\n",
    "# Define the custom layers\n",
    "class AdditionLayer(tf.keras.layers.Layer):\n",
    "    def __init__(self, **kwargs):\n",
    "        super(AdditionLayer, self).__init__(**kwargs)\n",
    "\n",
    "    def call(self, inputs):\n",
    "        return tf.add(inputs[0], inputs[1])\n",
    "\n",
    "    def get_config(self):\n",
    "        base_config = super(AdditionLayer, self).get_config()\n",
    "        return base_config\n",
    "\n",
    "class MultiplicationLayer(tf.keras.layers.Layer):\n",
    "    def __init__(self, **kwargs):\n",
    "        super(MultiplicationLayer, self).__init__(**kwargs)\n",
    "\n",
    "    def call(self, inputs):\n",
    "        return tf.multiply(inputs[0], inputs[1])\n",
    "\n",
    "    def get_config(self):\n",
    "        base_config = super(MultiplicationLayer, self).get_config()\n",
    "        return base_config\n",
    "\n",
    "# Define the combined layer\n",
    "class CombinedLayer(tf.keras.layers.Layer):\n",
    "    def __init__(self, operation='concatenate', **kwargs):\n",
    "        super(CombinedLayer, self).__init__(**kwargs)\n",
    "        self.operation = operation\n",
    "\n",
    "    def build(self, input_shape):\n",
    "        if self.operation == 'concatenate':\n",
    "            self.concat_layer = tf.keras.layers.Concatenate()\n",
    "        elif self.operation == 'multiply':\n",
    "            self.multiply_layer = tf.keras.layers.Multiply()\n",
    "        else:\n",
    "            raise ValueError('Unsupported operation.')\n",
    "\n",
    "    def call(self, inputs):\n",
    "        addition_output = AdditionLayer()(inputs)\n",
    "        multiplication_output = MultiplicationLayer()(inputs)\n",
    "\n",
    "        if self.operation == 'concatenate':\n",
    "            return self.concat_layer([addition_output, multiplication_output])\n",
    "        elif self.operation == 'multiply':\n",
    "            return self.multiply_layer([addition_output, multiplication_output])\n",
    "\n",
    "    def get_config(self):\n",
    "        config = {'operation': self.operation}\n",
    "        base_config = super(CombinedLayer, self).get_config()\n",
    "        return dict(list(base_config.items()) + list(config.items()))\n",
    "\n",
    "# Create the model\n",
    "input1 = tf.keras.Input(shape=(10,))\n",
    "input2 = tf.keras.Input(shape=(10,))\n",
    "\n",
    "combined_layer = CombinedLayer(operation='concatenate')\n",
    "\n",
    "output = combined_layer([input1, input2])\n",
    "\n",
    "model = tf.keras.Model(inputs=[input1, input2], outputs=output)\n",
    "\n",
    "# Generate some sample data\n",
    "batch_size = 4\n",
    "input_data1 = tf.random.normal(shape=(batch_size, 10))\n",
    "input_data2 = tf.random.normal(shape=(batch_size, 10))\n",
    "\n",
    "# Perform batch inference\n",
    "output_data = model.predict([input_data1, input_data2])\n",
    "\n",
    "# Print the output\n",
    "print(output_data)\n"
   ]
  }
 ],
 "metadata": {
  "kernelspec": {
   "display_name": "Python 3 (ipykernel)",
   "language": "python",
   "name": "python3"
  },
  "language_info": {
   "codemirror_mode": {
    "name": "ipython",
    "version": 3
   },
   "file_extension": ".py",
   "mimetype": "text/x-python",
   "name": "python",
   "nbconvert_exporter": "python",
   "pygments_lexer": "ipython3",
   "version": "3.11.3"
  }
 },
 "nbformat": 4,
 "nbformat_minor": 5
}
